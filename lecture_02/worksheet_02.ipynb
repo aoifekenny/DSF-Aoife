{
 "cells": [
  {
   "attachments": {},
   "cell_type": "markdown",
   "metadata": {},
   "source": [
    "# Worksheet 02\n",
    "\n",
    "Name:  Aoife Kenny\n",
    "UID:   U68390518\n",
    "\n",
    "### Topics\n",
    "\n",
    "- Effective Programming\n",
    "\n",
    "### Effective Programming\n",
    "\n",
    "a) What is a drawback of the top down approach?"
   ]
  },
  {
   "attachments": {},
   "cell_type": "markdown",
   "metadata": {},
   "source": [
    "- Without a typed language there is no way to check your code until its all done. \n",
    "- There is essentially no runable code until the end. "
   ]
  },
  {
   "cell_type": "markdown",
   "metadata": {},
   "source": [
    "b) What is a drawback of the bottom up approach?"
   ]
  },
  {
   "attachments": {},
   "cell_type": "markdown",
   "metadata": {},
   "source": [
    "- You need to know everything you need for the program upfront, requires more planning and overhead. \n",
    "- Sometimes end up implementing functions that are not needed later on. "
   ]
  },
  {
   "cell_type": "markdown",
   "metadata": {},
   "source": [
    "c) What are 3 things you can do to have a better debugging experience?"
   ]
  },
  {
   "attachments": {},
   "cell_type": "markdown",
   "metadata": {},
   "source": [
    "- Bottom up approach where you test individual functions before merging them so you know where the errors are more easily.\n",
    "- Read/reread your code before testing\n",
    "- Read the error message, symptom vs cause. \n",
    "\n"
   ]
  },
  {
   "attachments": {},
   "cell_type": "markdown",
   "metadata": {},
   "source": [
    "d) Follow along with the live coding. You can write your code here:"
   ]
  },
  {
   "cell_type": "code",
   "execution_count": null,
   "metadata": {},
   "outputs": [],
   "source": [
    "class Board:\n",
    "    def __init__(self):\n",
    "        self.board =[[\"_\" for _ in range(8)] for _ in range(8)]\n",
    "\n",
    "    def __repr__(self):\n",
    "        res = ''\n",
    "        for row in self.board:\n",
    "            for col in row:\n",
    "                res += col\n",
    "                res += \" \"\n",
    "            res += \"\\n\"\n",
    "        return res\n",
    "    \n",
    "    def is_legal_row(self,row,col):\n",
    "        for j in range(len(self.board)):\n",
    "            if self.board[row][j] == \"Q\":\n",
    "                return False\n",
    "            return True\n",
    "    def is_legal_col(self, row, col):\n",
    "        for i in range(len(self.board)):\n",
    "            if self.board[i][col] == \"Q\":\n",
    "                return False\n",
    "            else:\n",
    "                return True\n",
    "            \n",
    "    def is_on_board(self,row,col):\n",
    "        return row >= 0 and row < 8 and col >=0 and col <8\n",
    "            \n",
    "    def is_legal_diag(self, row, col):\n",
    "        for i in range(len(self.board)):\n",
    "            if self.is_on_board(row-i,col-i) and self.board([row-i][col-i]) == \"Q\": #checks diagonal to top left\n",
    "                return False\n",
    "            if self.is_on_board(row-i,col+i) and self.board([row-i][col+i]) == \"Q\": #checks diagonal to top right\n",
    "                return False\n",
    "            if self.is_on_board(row+i,col-i) and self.board([row+i][col-i]) == \"Q\": #checks diagonal to bottom left\n",
    "                return False\n",
    "            if self.is_on_board(row+i,col+i) and self.board([row+i][col+i]) == \"Q\": #checks diagonal to bottom right\n",
    "                return False\n",
    "        return True\n",
    "    \n",
    "    def is_legal(self, row, col):\n",
    "        if not self.is_legal_row(row,col):\n",
    "            return False\n",
    "        if not self.is_legal_col(row,col):\n",
    "            return False\n",
    "        if not self.is_legal_diag(row,col):\n",
    "            return False\n",
    "        return True\n",
    "    \n",
    "    def set_queen_at(self, row, col):\n",
    "       self.board[row][col] = \"Q\"\n",
    "    \n",
    "    def unset_queen_on(self, row):\n",
    "        self.board[row] = [\"_\" for _ in range(8)]\n",
    "\n",
    "    def get_queen_on(self,row):\n",
    "        for col in range(len(self.board)): \n",
    "            if self.board[row][col] == \"Q\":\n",
    "                return col\n",
    "        raise ValueError(\"programmer error\") #happens if we cant find a queen on the row which shouldnt happen in this case\n",
    "    \n",
    "\n",
    "    def search(self):\n",
    "        row = 0\n",
    "        col = 0\n",
    "        while row < 8:\n",
    "            if self.is_legal(row,col):\n",
    "                self.set_queen_at(row,col)\n",
    "                row +=1\n",
    "                col = 0\n",
    "            else: \n",
    "                col +=1\n",
    "                while col >= 8: #this means we've gotten through every column and no queen has been put on the row, so we go back to the previous row. \n",
    "                    col = self.get_queen_on(row-1 )\n",
    "                    self.unset_queen_on(row-1) #remove the queen on the previous row\n",
    "                    col +=1\n",
    "                    row -=1\n",
    "        print(\"found a solution\")\n",
    "        print(self) #prints the board with the solution\n",
    "        while col >= 8: #this means we've gotten through every column and no queen has been put on the row, so we go back to the previous row. \n",
    "                    col = self.get_queen_on(row-1 )\n",
    "                    self.unset_queen_on(row-1) #remove the queen on the previous row\n",
    "                    col +=1\n",
    "                    row -=1\n",
    "      \n",
    "\n",
    "\n",
    "my_board = Board()\n",
    "my_board.search()\n",
    "\n"
   ]
  }
 ],
 "metadata": {
  "kernelspec": {
   "display_name": "Python 3",
   "language": "python",
   "name": "python3"
  },
  "language_info": {
   "name": "python",
   "version": "3.11.1 (main, Dec  7 2022, 00:00:00) [GCC 12.2.1 20221121 (Red Hat 12.2.1-4)]"
  },
  "orig_nbformat": 4,
  "vscode": {
   "interpreter": {
    "hash": "76ca05dc3ea24b2e3b98cdb7774adfbb40773424bf5109b477fd793f623715af"
   }
  }
 },
 "nbformat": 4,
 "nbformat_minor": 2
}
