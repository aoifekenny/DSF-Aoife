{
 "cells": [
  {
   "attachments": {},
   "cell_type": "markdown",
   "metadata": {},
   "source": [
    "# Worksheet 08\n",
    "\n",
    "Name:  Aoife Kenny\n",
    "UID: U68390518\n",
    "\n",
    "### Topics\n",
    "\n",
    "- Soft Clustering\n",
    "- Clustering Aggregation\n",
    "\n",
    "### Probability Review\n",
    "\n",
    "Read through [the following](https://medium.com/@gallettilance/overview-of-probability-3272b72c82c8)\n",
    "\n",
    "### Soft Clustering\n",
    "\n",
    "We generate 10 data points that come from a normal distribution with mean 5 and variance 1."
   ]
  },
  {
   "cell_type": "code",
   "execution_count": 1,
   "metadata": {},
   "outputs": [
    {
     "name": "stdout",
     "output_type": "stream",
     "text": [
      "[5.102445334197943, 6.729365867031696, 6.485359045260884, 4.984818841215677, 5.525344245913081, 5.423315119396189, 3.6172747834238703, 4.164922962004214, 4.270983998249237, 5.382608555310965]\n"
     ]
    }
   ],
   "source": [
    "import random\n",
    "import numpy as np\n",
    "from sklearn.cluster import KMeans\n",
    "\n",
    "mean = 5\n",
    "stdev = 1\n",
    "\n",
    "c1 = np.random.normal(mean, stdev, 10).tolist()\n",
    "print(c1)"
   ]
  },
  {
   "cell_type": "markdown",
   "metadata": {},
   "source": [
    "a) Generate 10 more data points, this time coming from a normal distribution with mean 8 and variance 1."
   ]
  },
  {
   "cell_type": "code",
   "execution_count": 2,
   "metadata": {},
   "outputs": [
    {
     "name": "stdout",
     "output_type": "stream",
     "text": [
      "[9.447637114891553, 8.436755418102168, 7.5871964391294675, 9.85830716755437, 6.434587160660285, 8.956928901499946, 8.447366028098484, 9.221091511043547, 8.749880113393631, 9.662289488635064]\n"
     ]
    }
   ],
   "source": [
    "c2 = np.random.normal( 8 ,1 , 10).tolist()\n",
    "print(c2)"
   ]
  },
  {
   "cell_type": "markdown",
   "metadata": {},
   "source": [
    "b) Flip a fair coin 10 times. If the coin lands on H, then pick the last data point of `c1` and remove it from `c1`, if T then pick the last data point from `c2` and remove it from `c2`. Add these 10 points to a list called `data`."
   ]
  },
  {
   "cell_type": "code",
   "execution_count": 3,
   "metadata": {},
   "outputs": [
    {
     "name": "stdout",
     "output_type": "stream",
     "text": [
      "[5.382608555310965, 9.662289488635064, 4.270983998249237, 8.749880113393631, 4.164922962004214, 3.6172747834238703, 9.221091511043547, 8.447366028098484, 5.423315119396189, 8.956928901499946]\n"
     ]
    }
   ],
   "source": [
    "data = []\n",
    "for i in range(10):\n",
    "    # flip coin\n",
    "    coin_output = random.choice([0, 1])\n",
    "    if coin_output == 0:\n",
    "        p1 = c1.pop()\n",
    "        data.append(p1)\n",
    "    else:\n",
    "        p2 = c2.pop()\n",
    "        data.append(p2)\n",
    "print(data)"
   ]
  },
  {
   "cell_type": "markdown",
   "metadata": {},
   "source": [
    "c) This `data` is a Gaussian Mixture Distribution with 2 mixture components. Over the next few questions we will walk through the GMM algorithm to see if we can uncover the parameters we used to generate this data. First, please list all these parameters of the GMM that created `data` and the values we know they have."
   ]
  },
  {
   "cell_type": "markdown",
   "metadata": {},
   "source": [
    "mean = 5, variance = 1 and mean = 8, variance = 1 both with an equally likely chance of being in the data set. "
   ]
  },
  {
   "cell_type": "markdown",
   "metadata": {},
   "source": [
    "d) Let's assume there are two mixture components (note: we could plot the data and make the observation that there are two clusters). The EM algorithm asks us to start with a random `mean_j`, `variance_j`, `P(C_j)` for each component j. One method we could use to find sensible values for these is to apply K means with k=2 here.\n",
    "\n",
    "1. the centroids would be the estimates of the `mean_j`\n",
    "2. the intra-cluster variance could be the estimate of `variance_j`\n",
    "3. the proportion of points in each cluster could be the estimate of `P(C_j)`\n",
    "\n",
    "Go through this process and list the parameter estimates it gives. Are they close or far from the true values?"
   ]
  },
  {
   "cell_type": "code",
   "execution_count": 4,
   "metadata": {},
   "outputs": [
    {
     "name": "stdout",
     "output_type": "stream",
     "text": [
      "[5.102445334197943, 6.729365867031696, 6.485359045260884, 4.984818841215677, 5.525344245913081]\n",
      "[9.447637114891553, 8.436755418102168, 7.5871964391294675, 9.85830716755437, 6.434587160660285]\n",
      "P(C_1) = 0.5,  P(C_2) = 0.5\n",
      "mean_1 = 5.765466666723856,  mean_2 = 8.352896660067568\n",
      "var_1 = 0.5108027593721809,  var_2 = 1.547591582927976\n"
     ]
    },
    {
     "name": "stderr",
     "output_type": "stream",
     "text": [
      "/Users/aoifekenny/Library/Python/3.9/lib/python/site-packages/sklearn/cluster/_kmeans.py:1416: FutureWarning: The default value of `n_init` will change from 10 to 'auto' in 1.4. Set the value of `n_init` explicitly to suppress the warning\n",
      "  super()._check_params_vs_input(X, default_n_init=10)\n"
     ]
    }
   ],
   "source": [
    "kmeans = KMeans(2, init='k-means++').fit(X=np.array(data).reshape(-1, 1))\n",
    "\n",
    "c1 = c1\n",
    "print(c1)\n",
    "c2 = c2\n",
    "print(c2)\n",
    "prob_c = []\n",
    "mean = []\n",
    "var = []\n",
    "prob_c += [len(c1) / (len(c1) + len(c2))]\n",
    "prob_c += [len(c2) / (len(c1) + len(c2))]\n",
    "mean += [ sum(c1)/len(c1)]\n",
    "mean +=  [sum(c2)/len(c2)]\n",
    "var += [sum(map(lambda x : (x - mean[0])**2, c1)) / len(c1)]\n",
    "var += [sum(map(lambda x : (x - mean[1])**2, c2)) / len(c2)]\n",
    "\n",
    "print(\"P(C_1) = \" + str(prob_c[0]) + \",  P(C_2) = \" + str(prob_c[1]))\n",
    "print(\"mean_1 = \" + str(mean[0]) + \",  mean_2 = \" + str(mean[1]))\n",
    "print(\"var_1 = \" + str(var[0]) + \",  var_2 = \" + str(var[1]))"
   ]
  },
  {
   "cell_type": "markdown",
   "metadata": {},
   "source": [
    "The values for the mean are close to the real values, the values for the variance are far from the true values. "
   ]
  },
  {
   "cell_type": "markdown",
   "metadata": {},
   "source": [
    "e) For each data point, compute `P(C_j | X_i)`. Comment on which cluster you think each point belongs to based on the estimated probabilities. How does that compare to the truth?"
   ]
  },
  {
   "cell_type": "code",
   "execution_count": 5,
   "metadata": {},
   "outputs": [
    {
     "name": "stdout",
     "output_type": "stream",
     "text": [
      "point =  5.382608555310965\n",
      "probability of observing that point if it came from cluster 0 =  0.589748740493904\n",
      "probability of observing that point if it came from cluster 1 =  0.04086467826405857\n",
      "point =  9.662289488635064\n",
      "probability of observing that point if it came from cluster 0 =  1.7985565714195636e-13\n",
      "probability of observing that point if it came from cluster 1 =  0.1802216677845054\n",
      "point =  4.270983998249237\n",
      "probability of observing that point if it came from cluster 0 =  0.010811100203550066\n",
      "probability of observing that point if it came from cluster 1 =  0.007954003211651801\n",
      "point =  8.749880113393631\n",
      "probability of observing that point if it came from cluster 0 =  3.0209099626299196e-08\n",
      "probability of observing that point if it came from cluster 1 =  0.24943949259498613\n",
      "point =  4.164922962004214\n",
      "probability of observing that point if it came from cluster 0 =  0.005763387719843459\n",
      "probability of observing that point if it came from cluster 1 =  0.006623110239637197\n",
      "point =  3.6172747834238703\n",
      "probability of observing that point if it came from cluster 0 =  0.00011274617871903686\n",
      "probability of observing that point if it came from cluster 1 =  0.002387706745831886\n",
      "point =  9.221091511043547\n",
      "probability of observing that point if it came from cluster 0 =  9.007626997052097e-11\n",
      "probability of observing that point if it came from cluster 1 =  0.22024879649519685\n",
      "point =  8.447366028098484\n",
      "probability of observing that point if it came from cluster 0 =  8.066975866385583e-07\n",
      "probability of observing that point if it came from cluster 1 =  0.257302832368199\n",
      "point =  5.423315119396189\n",
      "probability of observing that point if it came from cluster 0 =  0.6240632232338891\n",
      "probability of observing that point if it came from cluster 1 =  0.04296576981952074\n",
      "point =  8.956928901499946\n",
      "probability of observing that point if it came from cluster 0 =  2.6058415237495985e-09\n",
      "probability of observing that point if it came from cluster 1 =  0.2388768072354144\n",
      "5.382608555310965\n",
      "Probability of coming from C_1 = [0.93519853]\n",
      "Probability of coming from C_2 = [0.06480147]\n",
      "\n",
      "9.662289488635064\n",
      "Probability of coming from C_1 = [9.97969109e-13]\n",
      "Probability of coming from C_2 = [1.]\n",
      "\n",
      "4.270983998249237\n",
      "Probability of coming from C_1 = [0.57612793]\n",
      "Probability of coming from C_2 = [0.42387207]\n",
      "\n",
      "8.749880113393631\n",
      "Probability of coming from C_1 = [1.21107911e-07]\n",
      "Probability of coming from C_2 = [0.99999988]\n",
      "\n",
      "4.164922962004214\n",
      "Probability of coming from C_1 = [0.46529598]\n",
      "Probability of coming from C_2 = [0.53470402]\n",
      "\n",
      "3.6172747834238703\n",
      "Probability of coming from C_1 = [0.0450903]\n",
      "Probability of coming from C_2 = [0.9549097]\n",
      "\n",
      "9.221091511043547\n",
      "Probability of coming from C_1 = [4.08975083e-10]\n",
      "Probability of coming from C_2 = [1.]\n",
      "\n",
      "8.447366028098484\n",
      "Probability of coming from C_1 = [3.13519696e-06]\n",
      "Probability of coming from C_2 = [0.99999686]\n",
      "\n",
      "5.423315119396189\n",
      "Probability of coming from C_1 = [0.93558635]\n",
      "Probability of coming from C_2 = [0.06441365]\n",
      "\n",
      "8.956928901499946\n",
      "Probability of coming from C_1 = [1.09087254e-08]\n",
      "Probability of coming from C_2 = [0.99999999]\n",
      "\n"
     ]
    }
   ],
   "source": [
    "from scipy.stats import norm\n",
    "\n",
    "prob_c0_x = [] # P(C_0 | X_i)\n",
    "prob_c1_x = [] # P(C_1 | X_i)\n",
    "prob_x = [] # P(X_i)\n",
    "\n",
    "k = 2\n",
    "\n",
    "for p in data:\n",
    "    print(\"point = \", p)\n",
    "    pdf_i = []\n",
    "\n",
    "    for j in range(k):\n",
    "        # P(X_i | C_j)\n",
    "        pdf_i.append(norm.pdf(p, mean[j], var[j]))\n",
    "        print(\"probability of observing that point if it came from cluster \" + str(j) + \" = \", pdf_i[j])\n",
    "        # P(C_j) already computed\n",
    "        prob_c[j]\n",
    "\n",
    "    # P(X_i) = P(C_0)P(X_i | C_0) + P(C_1)P(X_i | C_1)\n",
    "    prob_x = prob_c[0] * pdf_i[0] + prob_c[1] * pdf_i[1]\n",
    "\n",
    "    # P(C_j | X_i) = P(X_i | C_j)P(C_j) / P(X_i)\n",
    "    prob_c0_x.append( pdf_i[0]*prob_c[0] / [prob_x])\n",
    "    prob_c1_x.append( pdf_i[1]*prob_c[1] / [prob_x])\n",
    "\n",
    "probs = zip(data, prob_c0_x, prob_c1_x)\n",
    "for p in probs:\n",
    "    print(p[0])\n",
    "    print(\"Probability of coming from C_1 = \" + str(p[1]))\n",
    "    print(\"Probability of coming from C_2 = \" + str(p[2]))\n",
    "    print()\n"
   ]
  },
  {
   "cell_type": "markdown",
   "metadata": {},
   "source": [
    "f) Having computed `P(C_j | X_i)`, update the estimates of `mean_j`, `var_j`, and `P(C_j)`. How different are these values from the original ones you got from K means? briefly comment."
   ]
  },
  {
   "cell_type": "code",
   "execution_count": 6,
   "metadata": {},
   "outputs": [
    {
     "name": "stdout",
     "output_type": "stream",
     "text": [
      "P(C_1) = [0.29573024],  P(C_2) = [0.70426976]\n",
      "mean_1 = [4.96042412],  mean_2 = [7.557784]\n",
      "var_1 = [1.15889627],  var_2 = [2.17979573]\n"
     ]
    }
   ],
   "source": [
    "prob_c = [sum(prob_c0_x)/ len(prob_c0_x), sum(prob_c1_x)/ len(prob_c1_x) ]\n",
    "mean = [sum([x[0] * x[1] for x in zip(prob_c0_x, data)]) / sum(prob_c0_x), sum([x[0] * x[1] for x in zip(prob_c1_x, data)]) / sum(prob_c1_x) ]\n",
    "var = [ sum(map(lambda x : (x - mean[0])**2, c1)) / len(c1) , sum(map(lambda x : (x - mean[1])**2, c2)) / len(c2) ]\n",
    "\n",
    "print(\"P(C_1) = \" + str(prob_c[0]) + \",  P(C_2) = \" + str(prob_c[1]))\n",
    "print(\"mean_1 = \" + str(mean[0]) + \",  mean_2 = \" + str(mean[1]))\n",
    "print(\"var_1 = \" + str(var[0]) + \",  var_2 = \" + str(var[1]))"
   ]
  },
  {
   "cell_type": "markdown",
   "metadata": {},
   "source": [
    "The means are approximately the same distance from the true means and the variances are further from their true variances. P_CJ is inaccurate as the true values are 0.5 and 0.5."
   ]
  },
  {
   "cell_type": "markdown",
   "metadata": {},
   "source": [
    "g) Update `P(C_j | X_i)`. Comment on any differences or lack thereof you observe."
   ]
  },
  {
   "cell_type": "code",
   "execution_count": 7,
   "metadata": {},
   "outputs": [
    {
     "name": "stdout",
     "output_type": "stream",
     "text": [
      "point =  5.382608555310965\n",
      "probability of observing that point if it came from cluster 0 =  2.6058415237495985e-09\n",
      "probability of observing that point if it came from cluster 1 =  0.2388768072354144\n",
      "point =  9.662289488635064\n",
      "probability of observing that point if it came from cluster 0 =  2.6058415237495985e-09\n",
      "probability of observing that point if it came from cluster 1 =  0.2388768072354144\n",
      "point =  4.270983998249237\n",
      "probability of observing that point if it came from cluster 0 =  2.6058415237495985e-09\n",
      "probability of observing that point if it came from cluster 1 =  0.2388768072354144\n",
      "point =  8.749880113393631\n",
      "probability of observing that point if it came from cluster 0 =  2.6058415237495985e-09\n",
      "probability of observing that point if it came from cluster 1 =  0.2388768072354144\n",
      "point =  4.164922962004214\n",
      "probability of observing that point if it came from cluster 0 =  2.6058415237495985e-09\n",
      "probability of observing that point if it came from cluster 1 =  0.2388768072354144\n",
      "point =  3.6172747834238703\n",
      "probability of observing that point if it came from cluster 0 =  2.6058415237495985e-09\n",
      "probability of observing that point if it came from cluster 1 =  0.2388768072354144\n",
      "point =  9.221091511043547\n",
      "probability of observing that point if it came from cluster 0 =  2.6058415237495985e-09\n",
      "probability of observing that point if it came from cluster 1 =  0.2388768072354144\n",
      "point =  8.447366028098484\n",
      "probability of observing that point if it came from cluster 0 =  2.6058415237495985e-09\n",
      "probability of observing that point if it came from cluster 1 =  0.2388768072354144\n",
      "point =  5.423315119396189\n",
      "probability of observing that point if it came from cluster 0 =  2.6058415237495985e-09\n",
      "probability of observing that point if it came from cluster 1 =  0.2388768072354144\n",
      "point =  8.956928901499946\n",
      "probability of observing that point if it came from cluster 0 =  2.6058415237495985e-09\n",
      "probability of observing that point if it came from cluster 1 =  0.2388768072354144\n"
     ]
    }
   ],
   "source": [
    "for p in data:\n",
    "    print(\"point = \", p)\n",
    "    pdf_x = []\n",
    "\n",
    "    for j in range(k):\n",
    "        # P(X_i | C_j)\n",
    "        pdf_x.append(norm.pdf(p, mean[j], var[j]))\n",
    "        print(\"probability of observing that point if it came from cluster \" + str(j) + \" = \", pdf_i[j])\n",
    "        # P(C_j) already computed\n",
    "        prob_c[j]\n",
    "\n",
    "    # P(X_i) = P(C_0)P(X_i | C_0) + P(C_1)P(X_i | C_1)\n",
    "    prob_x = prob_c[0] * pdf_x[0] + prob_c[1] * pdf_x[1]\n",
    "\n",
    "    # P(C_j | X_i) = P(X_i | C_j)P(C_j) / P(X_i)\n",
    "    prob_c0_x.append( pdf_x[0]*prob_c[0] / [prob_x])\n",
    "    prob_c1_x.append( pdf_x[1]*prob_c[1] / [prob_x])\n"
   ]
  },
  {
   "cell_type": "markdown",
   "metadata": {},
   "source": [
    "These probabilities are less accurate as we dont have the true means and variances. "
   ]
  },
  {
   "cell_type": "markdown",
   "metadata": {},
   "source": [
    "h) Use `P(C_j | X_i)` to create a hard assignment - label each point as belonging to a specific cluster (0 or 1)"
   ]
  },
  {
   "cell_type": "code",
   "execution_count": 16,
   "metadata": {},
   "outputs": [
    {
     "name": "stdout",
     "output_type": "stream",
     "text": [
      "5.382608555310965 0\n",
      "9.662289488635064 1\n",
      "4.270983998249237 0\n",
      "8.749880113393631 1\n",
      "4.164922962004214 1\n",
      "3.6172747834238703 1\n",
      "9.221091511043547 1\n",
      "8.447366028098484 1\n",
      "5.423315119396189 0\n",
      "8.956928901499946 1\n"
     ]
    }
   ],
   "source": [
    "assignments = []\n",
    "for p in range(len(data)):\n",
    "    if prob_c0_x[p] > prob_c1_x[p]:\n",
    "        assignments.append(0)\n",
    "    else:\n",
    "        assignments.append(1)\n",
    "    print(data[p],assignments[p])"
   ]
  }
 ],
 "metadata": {
  "interpreter": {
   "hash": "76ca05dc3ea24b2e3b98cdb7774adfbb40773424bf5109b477fd793f623715af"
  },
  "kernelspec": {
   "display_name": "Python 3.9.9 64-bit ('env': venv)",
   "language": "python",
   "name": "python3"
  },
  "language_info": {
   "codemirror_mode": {
    "name": "ipython",
    "version": 3
   },
   "file_extension": ".py",
   "mimetype": "text/x-python",
   "name": "python",
   "nbconvert_exporter": "python",
   "pygments_lexer": "ipython3",
   "version": "3.9.6"
  },
  "orig_nbformat": 4
 },
 "nbformat": 4,
 "nbformat_minor": 2
}
