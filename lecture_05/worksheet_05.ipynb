{
 "cells": [
  {
   "attachments": {},
   "cell_type": "markdown",
   "metadata": {},
   "source": [
    "# Worksheet 05\n",
    "\n",
    "Name:  Aoife Kenny\n",
    "UID: U68390518\n",
    "\n",
    "### Topics\n",
    "\n",
    "- Cost Functions\n",
    "- Kmeans\n",
    "\n",
    "### Cost Function\n",
    "\n",
    "Solving Data Science problems often starts by defining a metric with which to evaluate solutions were you able to find some. This metric is called a cost function. Data Science then backtracks and tries to find a process / algorithm to find solutions that can optimize for that cost function.\n",
    "\n",
    "For example suppose you are asked to cluster three points A, B, C into two non-empty clusters. If someone gave you the solution `{A, B}, {C}`, how would you evaluate that this is a good solution?\n",
    "\n",
    "Notice that because the clusters need to be non-empty and all points must be assigned to a cluster, it must be that two of the three points will be together in one cluster and the third will be alone in the other cluster.\n",
    "\n",
    "In the above solution, if A and B are closer than A and C, and B and C, then this is a good solution. The smaller the distance between the two points in the same cluster (here A and B), the better the solution. So we can define our cost function to be that distance (between A and B here)!\n",
    "\n",
    "The algorithm / process would involve clustering together the two closest points and put the third in its own cluster. This process optimizes for that cost function because no other pair of points could have a lower distance (although it could equal it)."
   ]
  },
  {
   "cell_type": "markdown",
   "metadata": {},
   "source": [
    "### K means\n",
    "\n",
    "a) (1-dimensional clustering) Walk through Lloyd's algorithm step by step on the following dataset:\n",
    "\n",
    "`[0, .5, 1.5, 2, 6, 6.5, 7]` (note: each of these are 1-dimensional data points)\n",
    "\n",
    "Given the initial centroids:\n",
    "\n",
    "`[0, 2]`"
   ]
  },
  {
   "cell_type": "markdown",
   "metadata": {},
   "source": [
    "1.[0,.5]; [1.5,2,6,6.5,7] new centroids 0.25 and 4\n",
    "2. [0,0.5,1.5,2] ; [6,6.5,7] new centroids 1 and 6.5\n",
    "3. [0.0,5,1.5,2] ; [6,6.5,7] centroids 1 and 6.5, same as before, finished"
   ]
  },
  {
   "cell_type": "code",
   "execution_count": 7,
   "metadata": {},
   "outputs": [
    {
     "name": "stdout",
     "output_type": "stream",
     "text": [
      "4.0\n",
      "1.0\n"
     ]
    }
   ],
   "source": [
    "l1 = [1.5,2,6,6.5,7]\n",
    "a = sum(l1)\n",
    "print(a//len(l1))\n",
    "l2 = [0,0.5,1.5,2]\n",
    "b = sum(l2)\n",
    "print(b//len(l2))"
   ]
  },
  {
   "cell_type": "markdown",
   "metadata": {},
   "source": [
    "b) Describe in plain english what the cost function for k means is."
   ]
  },
  {
   "cell_type": "markdown",
   "metadata": {},
   "source": [
    "A way of measuring the accuracy of the clusters via the distance between their centers and the points in them, their sizer etc. Essentially a function that can be evaluated at multiple \n",
    "clusterings to determine the optimal groupings."
   ]
  },
  {
   "cell_type": "markdown",
   "metadata": {},
   "source": [
    "c) For the same number of clusters K, why could there be very different solutions to the K means algorithm on a given dataset?"
   ]
  },
  {
   "cell_type": "markdown",
   "metadata": {},
   "source": [
    "If they had different cost functions then the optimal clusters would be different"
   ]
  },
  {
   "cell_type": "markdown",
   "metadata": {},
   "source": [
    "d) Does Lloyd's Algorithm always converge? Why / why not?"
   ]
  },
  {
   "cell_type": "markdown",
   "metadata": {},
   "source": [
    "Yes, there is a finite set of points and hence a finite set of combinations of clusters and 1 will have the lowest distance therefore it always converges."
   ]
  },
  {
   "attachments": {},
   "cell_type": "markdown",
   "metadata": {},
   "source": [
    "e) Follow along in class the implementation of Kmeans"
   ]
  },
  {
   "cell_type": "code",
   "execution_count": 20,
   "metadata": {},
   "outputs": [
    {
     "ename": "TypeError",
     "evalue": "assign() takes 1 positional argument but 2 were given",
     "output_type": "error",
     "traceback": [
      "\u001b[0;31m---------------------------------------------------------------------------\u001b[0m",
      "\u001b[0;31mTypeError\u001b[0m                                 Traceback (most recent call last)",
      "\u001b[1;32m/Users/aoifekenny/DSF-Aoife/lecture_05/worksheet_05.ipynb Cell 12\u001b[0m line \u001b[0;36m7\n\u001b[1;32m     <a href='vscode-notebook-cell:/Users/aoifekenny/DSF-Aoife/lecture_05/worksheet_05.ipynb#X13sZmlsZQ%3D%3D?line=69'>70</a>\u001b[0m         \u001b[39mreturn\u001b[39;00m\n\u001b[1;32m     <a href='vscode-notebook-cell:/Users/aoifekenny/DSF-Aoife/lecture_05/worksheet_05.ipynb#X13sZmlsZQ%3D%3D?line=72'>73</a>\u001b[0m kmeans \u001b[39m=\u001b[39m KMeans(X, \u001b[39m6\u001b[39m)\n\u001b[0;32m---> <a href='vscode-notebook-cell:/Users/aoifekenny/DSF-Aoife/lecture_05/worksheet_05.ipynb#X13sZmlsZQ%3D%3D?line=73'>74</a>\u001b[0m kmeans\u001b[39m.\u001b[39;49mlloyds()\n\u001b[1;32m     <a href='vscode-notebook-cell:/Users/aoifekenny/DSF-Aoife/lecture_05/worksheet_05.ipynb#X13sZmlsZQ%3D%3D?line=74'>75</a>\u001b[0m images \u001b[39m=\u001b[39m kmeans\u001b[39m.\u001b[39msnaps\n\u001b[1;32m     <a href='vscode-notebook-cell:/Users/aoifekenny/DSF-Aoife/lecture_05/worksheet_05.ipynb#X13sZmlsZQ%3D%3D?line=76'>77</a>\u001b[0m images[\u001b[39m0\u001b[39m]\u001b[39m.\u001b[39msave(\n\u001b[1;32m     <a href='vscode-notebook-cell:/Users/aoifekenny/DSF-Aoife/lecture_05/worksheet_05.ipynb#X13sZmlsZQ%3D%3D?line=77'>78</a>\u001b[0m     \u001b[39m'\u001b[39m\u001b[39mkmeans.gif\u001b[39m\u001b[39m'\u001b[39m,\n\u001b[1;32m     <a href='vscode-notebook-cell:/Users/aoifekenny/DSF-Aoife/lecture_05/worksheet_05.ipynb#X13sZmlsZQ%3D%3D?line=78'>79</a>\u001b[0m     optimize\u001b[39m=\u001b[39m\u001b[39mFalse\u001b[39;00m,\n\u001b[0;32m   (...)\u001b[0m\n\u001b[1;32m     <a href='vscode-notebook-cell:/Users/aoifekenny/DSF-Aoife/lecture_05/worksheet_05.ipynb#X13sZmlsZQ%3D%3D?line=82'>83</a>\u001b[0m     duration\u001b[39m=\u001b[39m\u001b[39m500\u001b[39m\n\u001b[1;32m     <a href='vscode-notebook-cell:/Users/aoifekenny/DSF-Aoife/lecture_05/worksheet_05.ipynb#X13sZmlsZQ%3D%3D?line=83'>84</a>\u001b[0m )\n",
      "\u001b[1;32m/Users/aoifekenny/DSF-Aoife/lecture_05/worksheet_05.ipynb Cell 12\u001b[0m line \u001b[0;36m6\n\u001b[1;32m     <a href='vscode-notebook-cell:/Users/aoifekenny/DSF-Aoife/lecture_05/worksheet_05.ipynb#X13sZmlsZQ%3D%3D?line=59'>60</a>\u001b[0m \u001b[39mdef\u001b[39;00m \u001b[39mlloyds\u001b[39m(\u001b[39mself\u001b[39m):\n\u001b[1;32m     <a href='vscode-notebook-cell:/Users/aoifekenny/DSF-Aoife/lecture_05/worksheet_05.ipynb#X13sZmlsZQ%3D%3D?line=60'>61</a>\u001b[0m     centers \u001b[39m=\u001b[39m \u001b[39mself\u001b[39m\u001b[39m.\u001b[39minitialize\n\u001b[0;32m---> <a href='vscode-notebook-cell:/Users/aoifekenny/DSF-Aoife/lecture_05/worksheet_05.ipynb#X13sZmlsZQ%3D%3D?line=61'>62</a>\u001b[0m     \u001b[39mself\u001b[39;49m\u001b[39m.\u001b[39;49massign(centers)\n\u001b[1;32m     <a href='vscode-notebook-cell:/Users/aoifekenny/DSF-Aoife/lecture_05/worksheet_05.ipynb#X13sZmlsZQ%3D%3D?line=62'>63</a>\u001b[0m     \u001b[39mself\u001b[39m\u001b[39m.\u001b[39msnap(centers)\n\u001b[1;32m     <a href='vscode-notebook-cell:/Users/aoifekenny/DSF-Aoife/lecture_05/worksheet_05.ipynb#X13sZmlsZQ%3D%3D?line=63'>64</a>\u001b[0m     new_centers \u001b[39m=\u001b[39m \u001b[39mself\u001b[39m\u001b[39m.\u001b[39mget_centers()\n",
      "\u001b[0;31mTypeError\u001b[0m: assign() takes 1 positional argument but 2 were given"
     ]
    }
   ],
   "source": [
    "import numpy as np\n",
    "from PIL import Image as im\n",
    "import matplotlib.pyplot as plt\n",
    "import sklearn.datasets as datasets\n",
    "\n",
    "centers = [[0, 0], [2, 2], [-3, 2], [2, -4]]\n",
    "X, _ = datasets.make_blobs(n_samples=300, centers=centers, cluster_std=1, random_state=0)\n",
    "\n",
    "class KMeans():\n",
    "\n",
    "    def __init__(self, data, k):\n",
    "        self.data = data\n",
    "        self.k = k\n",
    "        self.assignment = [-1 for _ in range(len(data))]\n",
    "        self.snaps = []\n",
    "    \n",
    "    def snap(self, centers):\n",
    "        TEMPFILE = \"temp.png\"\n",
    "\n",
    "        fig, ax = plt.subplots()\n",
    "        ax.scatter(X[:, 0], X[:, 1], c=self.assignment)\n",
    "        ax.scatter(centers[:,0], centers[:, 1], c='r')\n",
    "        fig.savefig(TEMPFILE)\n",
    "        plt.close()\n",
    "        self.snaps.append(im.fromarray(np.asarray(im.open(TEMPFILE))))\n",
    "\n",
    "    def distnace(x,y,self):\n",
    "        return np.linalg.norm(abs(x-y))\n",
    "    \n",
    "    def is_diff_clusters(centers, new_centers, self):\n",
    "        for i in range(len(centers)):\n",
    "            if self.distance(centers[i], new_centers[i]) != 0:\n",
    "                return True\n",
    "        return False\n",
    "    \n",
    "    def assign(self):\n",
    "        for i in range(len(self.data)): #for each data point\n",
    "            minimum = self.distance(centers[0], self.data[i])\n",
    "            self.assingment = 0\n",
    "            for j in range(1, len(centers)): #for each centroid\n",
    "                dist = self.distance(centers[j], self.data[i]) #calc the distance btwn the centroid and the data point\n",
    "                if dist < minimum: self.assingment[i] = j #assign this data point to j\n",
    "                minimum = dist\n",
    "        return \n",
    "    \n",
    "    def initialize(self):\n",
    "        return self.data[np.random.choice(range(len(self.data)), self.k, replace = False)] #replace = false bc we dont want duplicate points\n",
    "\n",
    "    def get_centers(self):\n",
    "        for i in set((self.assingments)): #for each assingment\n",
    "            cluster = []\n",
    "            for j in range(len(self.data)): #for each data point\n",
    "                if self.assingment[j] == i: #assingment is a seperate list, if the assingment for the corresponding data point is i\n",
    "                    cluster.append[self.data] #add data point to the cluster list\n",
    "            #assign a cluster for i \n",
    "            #find the mean aka center\n",
    "\n",
    "\n",
    "\n",
    "    def lloyds(self):\n",
    "        centers = self.initialize\n",
    "        self.assign(centers)\n",
    "        self.snap(centers)\n",
    "        new_centers = self.get_centers()\n",
    "        while self.is_diff_clusters():\n",
    "            self.assign(new_centers)\n",
    "            centers = new_centers\n",
    "            self.snap(new_centers)\n",
    "            new_centers = self.get_centers()\n",
    "        return\n",
    "            \n",
    "\n",
    "kmeans = KMeans(X, 6)\n",
    "kmeans.lloyds()\n",
    "images = kmeans.snaps\n",
    "\n",
    "images[0].save(\n",
    "    'kmeans.gif',\n",
    "    optimize=False,\n",
    "    save_all=True,\n",
    "    append_images=images[1:],\n",
    "    loop=0,\n",
    "    duration=500\n",
    ")"
   ]
  }
 ],
 "metadata": {
  "kernelspec": {
   "display_name": "Python 3",
   "language": "python",
   "name": "python3"
  },
  "language_info": {
   "codemirror_mode": {
    "name": "ipython",
    "version": 3
   },
   "file_extension": ".py",
   "mimetype": "text/x-python",
   "name": "python",
   "nbconvert_exporter": "python",
   "pygments_lexer": "ipython3",
   "version": "3.9.6"
  },
  "orig_nbformat": 4,
  "vscode": {
   "interpreter": {
    "hash": "76ca05dc3ea24b2e3b98cdb7774adfbb40773424bf5109b477fd793f623715af"
   }
  }
 },
 "nbformat": 4,
 "nbformat_minor": 2
}
