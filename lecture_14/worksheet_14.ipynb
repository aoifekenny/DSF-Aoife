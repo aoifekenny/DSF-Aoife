{
 "cells": [
  {
   "attachments": {},
   "cell_type": "markdown",
   "metadata": {},
   "source": [
    "# Worksheet 14\n",
    "\n",
    "Name:  Aoife Kenny\n",
    "UID: U68390518\n",
    "\n",
    "### Topics\n",
    "\n",
    "- Naive Bayes\n",
    "- Model Evaluation\n",
    "\n",
    "### Naive Bayes\n",
    "\n",
    "| Attribute A | Attribute B | Attribute C | Class |\n",
    "|-------------|-------------|-------------|-------|\n",
    "| Yes         | Single      | High        | No    |\n",
    "| No          | Married     | Mid         | No    |\n",
    "| No          | Single      | Low         | No    |\n",
    "| Yes         | Married     | High        | No    |\n",
    "| No          | Divorced    | Mid         | Yes   |\n",
    "| No          | Married     | Low         | No    |\n",
    "| Yes         | Divorced    | High        | No    |\n",
    "| No          | Single      | Mid         | Yes   |\n",
    "| No          | Married     | Low         | No    |\n",
    "| No          | Single      | Mid         | Yes   |\n",
    "\n",
    "a) Compute the following probabilities:\n",
    "\n",
    "- P(Attribute A = Yes | Class = No)\n",
    "- P(Attribute B = Divorced | Class = Yes)\n",
    "- P(Attribute C = High | Class = No)\n",
    "- P(Attribute C = Mid | Class = Yes)"
   ]
  },
  {
   "cell_type": "markdown",
   "metadata": {},
   "source": [
    "- 3/7\n",
    "- 1/2\n",
    "- 3/7\n",
    "- 1"
   ]
  },
  {
   "cell_type": "markdown",
   "metadata": {},
   "source": [
    "b) Classify the following unseen records:\n",
    "\n",
    "- (Yes, Married, Mid) n/a\n",
    "- (No, Divorced, High) No\n",
    "- (No, Single, High) No\n",
    "- (No, Divorced, Low) No"
   ]
  },
  {
   "cell_type": "markdown",
   "metadata": {},
   "source": []
  },
  {
   "cell_type": "markdown",
   "metadata": {},
   "source": [
    "### Model Evaluation\n",
    "\n",
    "a) Write a function to generate the confusion matrix for a list of actual classes and a list of predicted classes"
   ]
  },
  {
   "cell_type": "code",
   "execution_count": 11,
   "metadata": {},
   "outputs": [
    {
     "name": "stdout",
     "output_type": "stream",
     "text": [
      "| Predicted |\n",
      "|  Y     N  |\n",
      "|-----------|--------\n",
      "|  2  |  1  | Y\n",
      "|-----------|   Acutal\n",
      "|  3  |  4  | N\n",
      "[2, 1, 3, 4]\n"
     ]
    }
   ],
   "source": [
    "actual_class = [\"Yes\", \"No\", \"No\", \"Yes\", \"No\", \"No\", \"Yes\", \"No\", \"No\", \"No\"]\n",
    "predicted_class = [\"Yes\", \"No\", \"Yes\", \"No\", \"No\", \"No\", \"Yes\", \"Yes\", \"Yes\", \"No\"]\n",
    "\n",
    "\n",
    "def confusion_matrix(actual, predicted, output = True):\n",
    "    yes_yes, yes_no, no_no, no_yes = 0,0,0,0\n",
    "    for i in range(len(actual)):\n",
    "        if predicted[i] == \"Yes\":\n",
    "            if actual[i] == predicted[i]:\n",
    "                yes_yes += 1\n",
    "            else:\n",
    "                yes_no += 1\n",
    "        else:\n",
    "            if actual[i] == predicted[i]:\n",
    "                no_no += 1\n",
    "            else:\n",
    "                no_yes += 1\n",
    "                \n",
    "    # Format printing\n",
    "    if output:\n",
    "        print(\"| Predicted |\")\n",
    "        print(\"|  Y     N  |\")\n",
    "        print(\"|-----------|--------\")\n",
    "        print(f\"|  {yes_yes}  |  {no_yes}  | Y\")\n",
    "        print(\"|-----------|   Acutal\")\n",
    "        print(f\"|  {yes_no}  |  {no_no}  | N\")\n",
    "    return [yes_yes, no_yes, yes_no, no_no]\n",
    "\n",
    "\n",
    "print(confusion_matrix(actual_class, predicted_class))"
   ]
  },
  {
   "cell_type": "markdown",
   "metadata": {},
   "source": [
    "b) Assume you have the following Cost Matrix:\n",
    "\n",
    "|            | predicted = Y | predicted = N |\n",
    "|------------|---------------|---------------|\n",
    "| actual = Y |       -1      |       5       |\n",
    "| actual = N |        10     |       0       |\n",
    "\n",
    "What is the cost of the above classification?"
   ]
  },
  {
   "cell_type": "markdown",
   "metadata": {},
   "source": [
    "Cost = -1(2)+1(5)+3(10)+4(0) = 33"
   ]
  },
  {
   "cell_type": "markdown",
   "metadata": {},
   "source": [
    "c) Write a function that takes in the actual values, the predictions, and a cost matrix and outputs a cost. Test it on the above example."
   ]
  },
  {
   "cell_type": "code",
   "execution_count": 12,
   "metadata": {},
   "outputs": [
    {
     "name": "stdout",
     "output_type": "stream",
     "text": [
      "33\n"
     ]
    }
   ],
   "source": [
    "def cost(actual, predictions, cost_matrix):\n",
    "    cost = 0\n",
    "    conf_mat = confusion_matrix(actual, predictions, output = False)\n",
    "    for i in range(len(cost_matrix)):\n",
    "        cost += cost_matrix[i] * conf_mat[i]\n",
    "    return cost\n",
    "\n",
    "cm = [-1,5,10,0]\n",
    "cost = cost(actual_class, predicted_class, cm)\n",
    "print(cost)"
   ]
  },
  {
   "cell_type": "markdown",
   "metadata": {},
   "source": [
    "d) Implement functions for the following:\n",
    "\n",
    "- accuracy\n",
    "- precision\n",
    "- recall\n",
    "- f-measure\n",
    "\n",
    "and apply them to the above example."
   ]
  },
  {
   "cell_type": "code",
   "execution_count": 13,
   "metadata": {},
   "outputs": [
    {
     "name": "stdout",
     "output_type": "stream",
     "text": [
      "| Predicted |\n",
      "|  Y     N  |\n",
      "|-----------|--------\n",
      "|  2  |  1  | Y\n",
      "|-----------|   Acutal\n",
      "|  3  |  4  | N\n",
      "Accuracy = 0.6\n",
      "Precision = 0.4\n",
      "Recall = 0.6666666666666666\n",
      "F-measure = 0.5\n"
     ]
    }
   ],
   "source": [
    "def accuracy(con_matrix):\n",
    "    correct = con_matrix[0] + con_matrix[3]\n",
    "    total = correct + con_matrix[1] + con_matrix[2]\n",
    "    return correct / total\n",
    "\n",
    "def precision(conf_matrix):\n",
    "    a = conf_matrix[0]\n",
    "    c = conf_matrix[2]\n",
    "    return a / (a + c)\n",
    "\n",
    "def recall(conf_matrix):\n",
    "    a = conf_matrix[0]\n",
    "    b = conf_matrix[1]\n",
    "    return a / (a + b)\n",
    "\n",
    "def f_measure(conf_matrix):\n",
    "    p = precision(conf_matrix)\n",
    "    r = recall(conf_matrix)\n",
    "    return 2*r*p/(r + p)\n",
    "\n",
    "conf_mat= confusion_matrix(actual_class, predicted_class)\n",
    "print(f\"Accuracy = {accuracy(conf_mat)}\")\n",
    "print(f\"Precision = {precision(conf_mat)}\")\n",
    "print(f\"Recall = {recall(conf_mat)}\")\n",
    "print(f\"F-measure = {f_measure(conf_mat)}\")"
   ]
  }
 ],
 "metadata": {
  "kernelspec": {
   "display_name": "Python 3",
   "language": "python",
   "name": "python3"
  },
  "language_info": {
   "codemirror_mode": {
    "name": "ipython",
    "version": 3
   },
   "file_extension": ".py",
   "mimetype": "text/x-python",
   "name": "python",
   "nbconvert_exporter": "python",
   "pygments_lexer": "ipython3",
   "version": "3.9.6"
  },
  "orig_nbformat": 4,
  "vscode": {
   "interpreter": {
    "hash": "e7370f93d1d0cde622a1f8e1c04877d8463912d04d973331ad4851f04de6915a"
   }
  }
 },
 "nbformat": 4,
 "nbformat_minor": 2
}
